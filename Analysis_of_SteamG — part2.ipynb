{
 "cells": [
  {
   "cell_type": "markdown",
   "metadata": {},
   "source": [
    "# Analysis of Steam Store Games "
   ]
  },
  {
   "cell_type": "markdown",
   "metadata": {},
   "source": [
    "### Content\n",
    "+ Introduction: Steam store and games\n",
    "+ Data description and objectives\n",
    "+ Data preparation: cleaning and shaping\n",
    "+ Data analysis and visualization \n",
    "+ Conclusion"
   ]
  },
  {
   "cell_type": "markdown",
   "metadata": {},
   "source": [
    "## 1. Introduction: Steam store and Games\n"
   ]
  },
  {
   "cell_type": "markdown",
   "metadata": {},
   "source": [
    "**𝚂𝚝𝚎𝚊𝚖** 𝚒𝚜 𝚊 𝚟𝚒𝚍𝚎𝚘 𝚐𝚊𝚖𝚎 𝚍𝚒𝚐𝚒𝚝𝚊𝚕 𝚍𝚒𝚜𝚝𝚛𝚒𝚋𝚞𝚝𝚒𝚘𝚗 𝚜𝚎𝚛𝚟𝚒𝚌𝚎 𝚋𝚢 **𝚅𝚊𝚕𝚟𝚎**. \n",
    "\n",
    "𝙸𝚝 𝚠𝚊𝚜 𝚕𝚊𝚞𝚗𝚌𝚑𝚎𝚍 𝚊𝚜 𝚊 𝚜𝚝𝚊𝚗𝚍𝚊𝚕𝚘𝚗𝚎 𝚜𝚘𝚏𝚝𝚠𝚊𝚛𝚎 𝚌𝚕𝚒𝚎𝚗𝚝 𝚒𝚗 𝚂𝚎𝚙𝚝𝚎𝚖𝚋𝚎𝚛 **𝟸𝟶𝟶𝟹** 𝚊𝚜 𝚊 𝚠𝚊𝚢 𝚏𝚘𝚛 𝚅𝚊𝚕𝚟𝚎 𝚝𝚘 𝚙𝚛𝚘𝚟𝚒𝚍𝚎 𝚊𝚞𝚝𝚘𝚖𝚊𝚝𝚒𝚌 𝚞𝚙𝚍𝚊𝚝𝚎𝚜 𝚏𝚘𝚛 𝚝𝚑𝚎𝚒𝚛 𝚐𝚊𝚖𝚎𝚜, 𝚊𝚗𝚍 𝚎𝚡𝚙𝚊𝚗𝚍𝚎𝚍 𝚝𝚘 𝚒𝚗𝚌𝚕𝚞𝚍𝚎 𝚐𝚊𝚖𝚎𝚜 𝚏𝚛𝚘𝚖 𝚝𝚑𝚒𝚛𝚍-𝚙𝚊𝚛𝚝𝚢 𝚙𝚞𝚋𝚕𝚒𝚜𝚑𝚎𝚛𝚜. 𝚂𝚝𝚎𝚊𝚖 𝚑𝚊𝚜 𝚊𝚕𝚜𝚘 𝚎𝚡𝚙𝚊𝚗𝚍𝚎𝚍 𝚒𝚗𝚝𝚘 𝚊𝚗 𝚘𝚗𝚕𝚒𝚗𝚎 𝚠𝚎𝚋-𝚋𝚊𝚜𝚎𝚍 𝚊𝚗𝚍 𝚖𝚘𝚋𝚒𝚕𝚎 𝚍𝚒𝚐𝚒𝚝𝚊𝚕 𝚜𝚝𝚘𝚛𝚎𝚏𝚛𝚘𝚗𝚝. 𝚂𝚝𝚎𝚊𝚖 𝚘𝚏𝚏𝚎𝚛𝚜 𝚍𝚒𝚐𝚒𝚝𝚊𝚕 𝚛𝚒𝚐𝚑𝚝𝚜 𝚖𝚊𝚗𝚊𝚐𝚎𝚖𝚎𝚗𝚝 (𝙳𝚁𝙼), 𝚜𝚎𝚛𝚟𝚎𝚛 𝚑𝚘𝚜𝚝𝚒𝚗𝚐, 𝚟𝚒𝚍𝚎𝚘 𝚜𝚝𝚛𝚎𝚊𝚖𝚒𝚗𝚐, 𝚊𝚗𝚍 𝚜𝚘𝚌𝚒𝚊𝚕 𝚗𝚎𝚝𝚠𝚘𝚛𝚔𝚒𝚗𝚐 𝚜𝚎𝚛𝚟𝚒𝚌𝚎𝚜. 𝙸𝚝 𝚊𝚕𝚜𝚘 𝚙𝚛𝚘𝚟𝚒𝚍𝚎𝚜 𝚝𝚑𝚎 𝚞𝚜𝚎𝚛 𝚠𝚒𝚝𝚑 𝚒𝚗𝚜𝚝𝚊𝚕𝚕𝚊𝚝𝚒𝚘𝚗 𝚊𝚗𝚍 𝚊𝚞𝚝𝚘𝚖𝚊𝚝𝚒𝚌 𝚞𝚙𝚍𝚊𝚝𝚒𝚗𝚐 𝚘𝚏 𝚐𝚊𝚖𝚎𝚜, 𝚊𝚗𝚍 𝚌𝚘𝚖𝚖𝚞𝚗𝚒𝚝𝚢 𝚏𝚎𝚊𝚝𝚞𝚛𝚎𝚜 𝚜𝚞𝚌𝚑 𝚊𝚜 𝚏𝚛𝚒𝚎𝚗𝚍𝚜 𝚕𝚒𝚜𝚝𝚜 𝚊𝚗𝚍 𝚐𝚛𝚘𝚞𝚙𝚜, 𝚌𝚕𝚘𝚞𝚍 𝚜𝚝𝚘𝚛𝚊𝚐𝚎, 𝚊𝚗𝚍 𝚒𝚗-𝚐𝚊𝚖𝚎 𝚟𝚘𝚒𝚌𝚎 𝚊𝚗𝚍 𝚌𝚑𝚊𝚝 𝚏𝚞𝚗𝚌𝚝𝚒𝚘𝚗𝚊𝚕𝚒𝚝𝚢.\n"
   ]
  },
  {
   "cell_type": "markdown",
   "metadata": {},
   "source": [
    "<div style=\"background: #0f214f;\">\n",
    "    <img src=\"https://steamcdn-a.akamaihd.net/store/home/store_home_share.jpg\"  height=\"50%\">\n",
    "</div>"
   ]
  },
  {
   "cell_type": "markdown",
   "metadata": {},
   "source": [
    "𝚃𝚑𝚎 𝚂𝚝𝚎𝚊𝚖 𝚙𝚕𝚊𝚝𝚏𝚘𝚛𝚖 𝚒𝚜 𝚝𝚑𝚎 𝚕𝚊𝚛𝚐𝚎𝚜𝚝 𝚍𝚒𝚐𝚒𝚝𝚊𝚕 𝚍𝚒𝚜𝚝𝚛𝚒𝚋𝚞𝚝𝚒𝚘𝚗 𝚙𝚕𝚊𝚝𝚏𝚘𝚛𝚖 𝚏𝚘𝚛 𝙿𝙲 𝚐𝚊𝚖𝚒𝚗𝚐, 𝚑𝚘𝚕𝚍𝚒𝚗𝚐 𝚊𝚛𝚘𝚞𝚗𝚍 𝟽𝟻% 𝚘𝚏 𝚝𝚑𝚎 𝚖𝚊𝚛𝚔𝚎𝚝 𝚜𝚙𝚊𝚌𝚎 𝚒𝚗 𝟸𝟶𝟷𝟹. 𝙱𝚢 𝟸𝟶𝟷𝟽, 𝚞𝚜𝚎𝚛𝚜 𝚙𝚞𝚛𝚌𝚑𝚊𝚜𝚒𝚗𝚐 𝚐𝚊𝚖𝚎𝚜 𝚝𝚑𝚛𝚘𝚞𝚐𝚑 𝚂𝚝𝚎𝚊𝚖 𝚝𝚘𝚝𝚊𝚕𝚎𝚍 𝚛𝚘𝚞𝚐𝚑𝚕𝚢 𝚄𝚂$𝟺.𝟹 𝚋𝚒𝚕𝚕𝚒𝚘𝚗, 𝚛𝚎𝚙𝚛𝚎𝚜𝚎𝚗𝚝𝚒𝚗𝚐 𝚊𝚝 𝚕𝚎𝚊𝚜𝚝 18% 𝚘𝚏 𝚐𝚕𝚘𝚋𝚊𝚕 𝙿𝙲 𝚐𝚊𝚖𝚎 𝚜𝚊𝚕𝚎𝚜. 𝙱𝚢 𝟸𝟶𝟷𝟿, 𝚝𝚑𝚎 𝚜𝚎𝚛𝚟𝚒𝚌𝚎 𝚑𝚊𝚍 𝚘𝚟𝚎𝚛 **𝟹𝟺,𝟶𝟶𝟶 𝚐𝚊𝚖𝚎𝚜** 𝚠𝚒𝚝𝚑 𝚘𝚟𝚎𝚛 𝟿𝟻 𝚖𝚒𝚕𝚕𝚒𝚘𝚗 𝚖𝚘𝚗𝚝𝚑𝚕𝚢 𝚊𝚌𝚝𝚒𝚟𝚎 𝚞𝚜𝚎𝚛𝚜. 𝚃𝚑𝚎 𝚜𝚞𝚌𝚌𝚎𝚜𝚜 𝚘𝚏 𝚂𝚝𝚎𝚊𝚖 𝚑𝚊𝚜 𝚕𝚎𝚍 𝚝𝚘 𝚝𝚑𝚎 𝚍𝚎𝚟𝚎𝚕𝚘𝚙𝚖𝚎𝚗𝚝 𝚘𝚏 𝚊 𝚕𝚒𝚗𝚎 𝚘𝚏 𝚂𝚝𝚎𝚊𝚖 𝙼𝚊𝚌𝚑𝚒𝚗𝚎 𝚖𝚒𝚌𝚛𝚘𝚌𝚘𝚗𝚜𝚘𝚕𝚎𝚜, 𝚠𝚑𝚒𝚌𝚑 𝚒𝚗𝚌𝚕𝚞𝚍𝚎 𝚝𝚑𝚎 𝚂𝚝𝚎𝚊𝚖𝙾𝚂 𝚘𝚙𝚎𝚛𝚊𝚝𝚒𝚗𝚐 𝚜𝚢𝚜𝚝𝚎𝚖 𝚊𝚗𝚍 𝚂𝚝𝚎𝚊𝚖 𝙲𝚘𝚗𝚝𝚛𝚘𝚕𝚕𝚎𝚛𝚜."
   ]
  },
  {
   "cell_type": "markdown",
   "metadata": {},
   "source": [
    "source: https://en.wikipedia.org/wiki/Steam_(service)"
   ]
  },
  {
   "cell_type": "markdown",
   "metadata": {},
   "source": [
    "## 2. Data description and objectives"
   ]
  },
  {
   "cell_type": "markdown",
   "metadata": {},
   "source": [
    "𝚂𝚝𝚎𝚊𝚖 𝚒𝚜 𝚊𝚗 𝚘𝚗𝚕𝚒𝚗𝚎 𝚜𝚎𝚛𝚟𝚒𝚌𝚎 𝚏𝚘𝚛 𝚌𝚘𝚖𝚙𝚞𝚝𝚎𝚛 𝚐𝚊𝚖𝚎𝚜 𝚊𝚗𝚍 𝚙𝚛𝚘𝚐𝚛𝚊𝚖𝚜.\n",
    "𝙸𝚝 𝚒𝚜 𝚎𝚊𝚜𝚢 𝚝𝚘 𝚊𝚜𝚜𝚞𝚖𝚎 𝚝𝚑𝚊𝚝 𝚝𝚑𝚎 𝚐𝚊𝚖𝚎𝚜 𝚒𝚗 𝚝𝚑𝚎 𝚜𝚎𝚛𝚟𝚒𝚌𝚎 𝚠𝚎𝚛𝚎 𝚍𝚎𝚟𝚎𝚕𝚘𝚙𝚎𝚍 𝚒𝚗 𝚍𝚒𝚏𝚏𝚎𝚛𝚎𝚗𝚝 𝚌𝚘𝚖𝚙𝚊𝚗𝚒𝚎𝚜, 𝚊𝚗𝚍 𝚝𝚑𝚎𝚛𝚎 𝚒𝚜 𝚊𝚕𝚜𝚘 𝚊 𝚍𝚒𝚏𝚏𝚎𝚛𝚎𝚗𝚌𝚎 𝚒𝚗 𝚐𝚎𝚗𝚛𝚎𝚜, 𝚛𝚎𝚕𝚎𝚊𝚜𝚎 𝚢𝚎𝚊𝚛 𝚊𝚗𝚍 𝚐𝚊𝚖𝚎 𝚖𝚘𝚍𝚎. 𝙰𝚗𝚍 𝚠𝚎 𝚠𝚒𝚕𝚕 𝚕𝚘𝚘𝚔 𝚊𝚝 𝚜𝚘𝚖𝚎 𝚊𝚜𝚙𝚎𝚌𝚝𝚜 𝚊𝚗𝚍 𝚟𝚒𝚜𝚞𝚊𝚕𝚕𝚢 𝚊𝚗𝚊𝚕𝚢𝚣𝚎 𝚒𝚗 𝚍𝚎𝚝𝚊𝚒𝚕 𝚝𝚑𝚎 𝚐𝚊𝚖𝚎𝚜 𝚘𝚗 𝚝𝚑𝚎 𝚂𝚝𝚎𝚊𝚖 𝚜𝚎𝚛𝚟𝚒𝚌𝚎, 𝚝𝚊𝚔𝚒𝚗𝚐 𝚒𝚗𝚝𝚘 𝚊𝚌𝚌𝚘𝚞𝚗𝚝 𝚜𝚞𝚌𝚑 𝚊𝚜𝚙𝚎𝚌𝚝𝚜 𝚊𝚜 𝚝𝚑𝚎 **𝚍𝚎𝚟𝚎𝚕𝚘𝚙𝚎𝚛, 𝚛𝚎𝚕𝚎𝚊𝚜𝚎 𝚢𝚎𝚊𝚛, 𝚐𝚎𝚗𝚛𝚎, 𝚙𝚘𝚜𝚒𝚝𝚒𝚟𝚎 𝚊𝚗𝚍 𝚗𝚎𝚐𝚊𝚝𝚒𝚟𝚎 𝚛𝚊𝚝𝚒𝚗𝚐𝚜, 𝚊𝚌𝚑𝚒𝚎𝚟𝚎𝚖𝚎𝚗𝚝𝚜, 𝚊𝚟𝚎𝚛𝚊𝚐𝚎 𝚙𝚕𝚊𝚢𝚝𝚒𝚖𝚎, 𝚊𝚗𝚍 𝚖𝚘𝚛𝚎 𝚌𝚘𝚜𝚝**."
   ]
  },
  {
   "cell_type": "markdown",
   "metadata": {},
   "source": [
    "𝙱𝚎𝚕𝚘𝚠 𝚒𝚜 𝚍𝚊𝚝𝚊 𝚝𝚑𝚊𝚝 𝚠𝚎 𝚠𝚒𝚕𝚕 𝚋𝚎 𝚞𝚜𝚎𝚍 𝚏𝚘𝚛 𝚘𝚞𝚛 𝚊𝚗𝚊𝚕𝚢𝚜𝚒𝚜:\n",
    "\n",
    "+ **name** - Title of app (game)\n",
    "+ **release date** - Release date in format YYYY-MM-DD the game\n",
    "+ **developer** - Name (or names) of developer(s) \n",
    "+ **categories** - List of game categories, e.g. single-player;multi-player\n",
    "+ **genres** - List of game genres, e.g. action;adventure\n",
    "+ **achievements** - Number of in-games achievements\n",
    "+ **positive_ratings** - Number of positive ratings, from SteamSpy\n",
    "+ **negative_ratings** - Number of negative ratings, from SteamSpy\n",
    "+ **average_playtime** - Average user playtime, from SteamSpy\n",
    "+ **owner** - Estimated number of owners. Contains lower and upper bound (like 20000-50000). May wish to take mid-point or lower bound. Included both to give options.\n",
    "+ **price** - Current full price of title in GBP"
   ]
  },
  {
   "cell_type": "markdown",
   "metadata": {},
   "source": [
    "#### 2.1 For analysis, we will consider issues such as:\n",
    "1. Play time of different game genres.\n",
    "2. Rating of positive and negative developers:\n",
    "  + The most positive developers in the last years.\n",
    "  + The most negative developers in the last years.\n",
    "3. The game fundraising:\n",
    "  + The game with the biggest fundraising.\n",
    "  + The game with the biggest fundraising in the last year.\n",
    "  + The game with the biggest fundraising in the last 10 years. \n",
    "4. The most productive developer.\n",
    "  + The most productive developer in the last year.\n",
    "  + The most productive developer in the last 10 years.\n",
    "5. Game achievements:\n",
    "  + Game genre with greatest achievement.\n",
    "  + Developers with the greatest achievement.\n",
    "  "
   ]
  },
  {
   "cell_type": "markdown",
   "metadata": {},
   "source": [
    "## 3. Data preparation: cleaning and shaping\n"
   ]
  },
  {
   "cell_type": "markdown",
   "metadata": {},
   "source": [
    "𝙱𝚎𝚏𝚘𝚛𝚎 𝚊𝚗𝚊𝚕𝚢𝚣𝚒𝚗𝚐 𝚊𝚗𝚍 𝚟𝚒𝚜𝚞𝚊𝚕𝚒𝚣𝚒𝚗𝚐 𝚝𝚑𝚎 𝚍𝚊𝚝𝚊, 𝚠𝚎 𝚖𝚞𝚜𝚝 𝚜𝚘𝚛𝚝 𝚊𝚗𝚍 𝚍𝚒𝚟𝚒𝚍𝚎 𝚝𝚑𝚎𝚖 𝚏𝚘𝚛 𝚝𝚑𝚎 𝚌𝚘𝚗𝚟𝚎𝚗𝚒𝚎𝚗𝚌𝚎 𝚘𝚏 𝚠𝚘𝚛𝚔 𝚊𝚜 𝚠𝚎𝚕𝚕 𝚊𝚜 𝚘𝚙𝚝𝚒𝚖𝚊𝚕𝚒𝚝𝚢."
   ]
  },
  {
   "cell_type": "code",
   "execution_count": 1,
   "metadata": {},
   "outputs": [],
   "source": [
    "import time\n",
    "import numpy as np\n",
    "import pandas as pd\n",
    "import matplotlib.pyplot as plt\n",
    "import seaborn as sns"
   ]
  },
  {
   "cell_type": "code",
   "execution_count": 2,
   "metadata": {},
   "outputs": [],
   "source": [
    "game = pd.read_csv('steam.csv')"
   ]
  },
  {
   "cell_type": "code",
   "execution_count": 3,
   "metadata": {},
   "outputs": [],
   "source": [
    "game = game[['name','release_date','developer', 'categories', 'genres', 'achievements', 'positive_ratings', 'negative_ratings', 'average_playtime', 'owners', 'price']]"
   ]
  },
  {
   "cell_type": "code",
   "execution_count": 4,
   "metadata": {},
   "outputs": [
    {
     "data": {
      "text/plain": [
       "(27075, 11)"
      ]
     },
     "execution_count": 4,
     "metadata": {},
     "output_type": "execute_result"
    }
   ],
   "source": [
    "game.shape"
   ]
  },
  {
   "cell_type": "code",
   "execution_count": 5,
   "metadata": {},
   "outputs": [
    {
     "name": "stdout",
     "output_type": "stream",
     "text": [
      "<class 'pandas.core.frame.DataFrame'>\n",
      "RangeIndex: 27075 entries, 0 to 27074\n",
      "Data columns (total 11 columns):\n",
      " #   Column            Non-Null Count  Dtype  \n",
      "---  ------            --------------  -----  \n",
      " 0   name              27075 non-null  object \n",
      " 1   release_date      27075 non-null  object \n",
      " 2   developer         27075 non-null  object \n",
      " 3   categories        27075 non-null  object \n",
      " 4   genres            27075 non-null  object \n",
      " 5   achievements      27075 non-null  int64  \n",
      " 6   positive_ratings  27075 non-null  int64  \n",
      " 7   negative_ratings  27075 non-null  int64  \n",
      " 8   average_playtime  27075 non-null  int64  \n",
      " 9   owners            27075 non-null  object \n",
      " 10  price             27075 non-null  float64\n",
      "dtypes: float64(1), int64(4), object(6)\n",
      "memory usage: 2.3+ MB\n"
     ]
    }
   ],
   "source": [
    "game.info()"
   ]
  },
  {
   "cell_type": "code",
   "execution_count": 6,
   "metadata": {},
   "outputs": [
    {
     "data": {
      "text/html": [
       "<div>\n",
       "<style scoped>\n",
       "    .dataframe tbody tr th:only-of-type {\n",
       "        vertical-align: middle;\n",
       "    }\n",
       "\n",
       "    .dataframe tbody tr th {\n",
       "        vertical-align: top;\n",
       "    }\n",
       "\n",
       "    .dataframe thead th {\n",
       "        text-align: right;\n",
       "    }\n",
       "</style>\n",
       "<table border=\"1\" class=\"dataframe\">\n",
       "  <thead>\n",
       "    <tr style=\"text-align: right;\">\n",
       "      <th></th>\n",
       "      <th>name</th>\n",
       "      <th>release_date</th>\n",
       "      <th>developer</th>\n",
       "      <th>categories</th>\n",
       "      <th>genres</th>\n",
       "      <th>achievements</th>\n",
       "      <th>positive_ratings</th>\n",
       "      <th>negative_ratings</th>\n",
       "      <th>average_playtime</th>\n",
       "      <th>owners</th>\n",
       "      <th>price</th>\n",
       "    </tr>\n",
       "  </thead>\n",
       "  <tbody>\n",
       "    <tr>\n",
       "      <th>0</th>\n",
       "      <td>Counter-Strike</td>\n",
       "      <td>2000-11-01</td>\n",
       "      <td>Valve</td>\n",
       "      <td>Multi-player;Online Multi-Player;Local Multi-P...</td>\n",
       "      <td>Action</td>\n",
       "      <td>0</td>\n",
       "      <td>124534</td>\n",
       "      <td>3339</td>\n",
       "      <td>17612</td>\n",
       "      <td>10000000-20000000</td>\n",
       "      <td>7.19</td>\n",
       "    </tr>\n",
       "    <tr>\n",
       "      <th>1</th>\n",
       "      <td>Team Fortress Classic</td>\n",
       "      <td>1999-04-01</td>\n",
       "      <td>Valve</td>\n",
       "      <td>Multi-player;Online Multi-Player;Local Multi-P...</td>\n",
       "      <td>Action</td>\n",
       "      <td>0</td>\n",
       "      <td>3318</td>\n",
       "      <td>633</td>\n",
       "      <td>277</td>\n",
       "      <td>5000000-10000000</td>\n",
       "      <td>3.99</td>\n",
       "    </tr>\n",
       "    <tr>\n",
       "      <th>2</th>\n",
       "      <td>Day of Defeat</td>\n",
       "      <td>2003-05-01</td>\n",
       "      <td>Valve</td>\n",
       "      <td>Multi-player;Valve Anti-Cheat enabled</td>\n",
       "      <td>Action</td>\n",
       "      <td>0</td>\n",
       "      <td>3416</td>\n",
       "      <td>398</td>\n",
       "      <td>187</td>\n",
       "      <td>5000000-10000000</td>\n",
       "      <td>3.99</td>\n",
       "    </tr>\n",
       "    <tr>\n",
       "      <th>3</th>\n",
       "      <td>Deathmatch Classic</td>\n",
       "      <td>2001-06-01</td>\n",
       "      <td>Valve</td>\n",
       "      <td>Multi-player;Online Multi-Player;Local Multi-P...</td>\n",
       "      <td>Action</td>\n",
       "      <td>0</td>\n",
       "      <td>1273</td>\n",
       "      <td>267</td>\n",
       "      <td>258</td>\n",
       "      <td>5000000-10000000</td>\n",
       "      <td>3.99</td>\n",
       "    </tr>\n",
       "    <tr>\n",
       "      <th>4</th>\n",
       "      <td>Half-Life: Opposing Force</td>\n",
       "      <td>1999-11-01</td>\n",
       "      <td>Gearbox Software</td>\n",
       "      <td>Single-player;Multi-player;Valve Anti-Cheat en...</td>\n",
       "      <td>Action</td>\n",
       "      <td>0</td>\n",
       "      <td>5250</td>\n",
       "      <td>288</td>\n",
       "      <td>624</td>\n",
       "      <td>5000000-10000000</td>\n",
       "      <td>3.99</td>\n",
       "    </tr>\n",
       "    <tr>\n",
       "      <th>...</th>\n",
       "      <td>...</td>\n",
       "      <td>...</td>\n",
       "      <td>...</td>\n",
       "      <td>...</td>\n",
       "      <td>...</td>\n",
       "      <td>...</td>\n",
       "      <td>...</td>\n",
       "      <td>...</td>\n",
       "      <td>...</td>\n",
       "      <td>...</td>\n",
       "      <td>...</td>\n",
       "    </tr>\n",
       "    <tr>\n",
       "      <th>27070</th>\n",
       "      <td>Room of Pandora</td>\n",
       "      <td>2019-04-24</td>\n",
       "      <td>SHEN JIAWEI</td>\n",
       "      <td>Single-player;Steam Achievements</td>\n",
       "      <td>Adventure;Casual;Indie</td>\n",
       "      <td>7</td>\n",
       "      <td>3</td>\n",
       "      <td>0</td>\n",
       "      <td>0</td>\n",
       "      <td>0-20000</td>\n",
       "      <td>2.09</td>\n",
       "    </tr>\n",
       "    <tr>\n",
       "      <th>27071</th>\n",
       "      <td>Cyber Gun</td>\n",
       "      <td>2019-04-23</td>\n",
       "      <td>Semyon Maximov</td>\n",
       "      <td>Single-player</td>\n",
       "      <td>Action;Adventure;Indie</td>\n",
       "      <td>0</td>\n",
       "      <td>8</td>\n",
       "      <td>1</td>\n",
       "      <td>0</td>\n",
       "      <td>0-20000</td>\n",
       "      <td>1.69</td>\n",
       "    </tr>\n",
       "    <tr>\n",
       "      <th>27072</th>\n",
       "      <td>Super Star Blast</td>\n",
       "      <td>2019-04-24</td>\n",
       "      <td>EntwicklerX</td>\n",
       "      <td>Single-player;Multi-player;Co-op;Shared/Split ...</td>\n",
       "      <td>Action;Casual;Indie</td>\n",
       "      <td>24</td>\n",
       "      <td>0</td>\n",
       "      <td>1</td>\n",
       "      <td>0</td>\n",
       "      <td>0-20000</td>\n",
       "      <td>3.99</td>\n",
       "    </tr>\n",
       "    <tr>\n",
       "      <th>27073</th>\n",
       "      <td>New Yankee 7: Deer Hunters</td>\n",
       "      <td>2019-04-17</td>\n",
       "      <td>Yustas Game Studio</td>\n",
       "      <td>Single-player;Steam Cloud</td>\n",
       "      <td>Adventure;Casual;Indie</td>\n",
       "      <td>0</td>\n",
       "      <td>2</td>\n",
       "      <td>0</td>\n",
       "      <td>0</td>\n",
       "      <td>0-20000</td>\n",
       "      <td>5.19</td>\n",
       "    </tr>\n",
       "    <tr>\n",
       "      <th>27074</th>\n",
       "      <td>Rune Lord</td>\n",
       "      <td>2019-04-24</td>\n",
       "      <td>Adept Studios GD</td>\n",
       "      <td>Single-player;Steam Cloud</td>\n",
       "      <td>Adventure;Casual;Indie</td>\n",
       "      <td>0</td>\n",
       "      <td>4</td>\n",
       "      <td>0</td>\n",
       "      <td>0</td>\n",
       "      <td>0-20000</td>\n",
       "      <td>5.19</td>\n",
       "    </tr>\n",
       "  </tbody>\n",
       "</table>\n",
       "<p>27075 rows × 11 columns</p>\n",
       "</div>"
      ],
      "text/plain": [
       "                             name release_date           developer  \\\n",
       "0                  Counter-Strike   2000-11-01               Valve   \n",
       "1           Team Fortress Classic   1999-04-01               Valve   \n",
       "2                   Day of Defeat   2003-05-01               Valve   \n",
       "3              Deathmatch Classic   2001-06-01               Valve   \n",
       "4       Half-Life: Opposing Force   1999-11-01    Gearbox Software   \n",
       "...                           ...          ...                 ...   \n",
       "27070             Room of Pandora   2019-04-24         SHEN JIAWEI   \n",
       "27071                   Cyber Gun   2019-04-23      Semyon Maximov   \n",
       "27072            Super Star Blast   2019-04-24         EntwicklerX   \n",
       "27073  New Yankee 7: Deer Hunters   2019-04-17  Yustas Game Studio   \n",
       "27074                   Rune Lord   2019-04-24    Adept Studios GD   \n",
       "\n",
       "                                              categories  \\\n",
       "0      Multi-player;Online Multi-Player;Local Multi-P...   \n",
       "1      Multi-player;Online Multi-Player;Local Multi-P...   \n",
       "2                  Multi-player;Valve Anti-Cheat enabled   \n",
       "3      Multi-player;Online Multi-Player;Local Multi-P...   \n",
       "4      Single-player;Multi-player;Valve Anti-Cheat en...   \n",
       "...                                                  ...   \n",
       "27070                   Single-player;Steam Achievements   \n",
       "27071                                      Single-player   \n",
       "27072  Single-player;Multi-player;Co-op;Shared/Split ...   \n",
       "27073                          Single-player;Steam Cloud   \n",
       "27074                          Single-player;Steam Cloud   \n",
       "\n",
       "                       genres  achievements  positive_ratings  \\\n",
       "0                      Action             0            124534   \n",
       "1                      Action             0              3318   \n",
       "2                      Action             0              3416   \n",
       "3                      Action             0              1273   \n",
       "4                      Action             0              5250   \n",
       "...                       ...           ...               ...   \n",
       "27070  Adventure;Casual;Indie             7                 3   \n",
       "27071  Action;Adventure;Indie             0                 8   \n",
       "27072     Action;Casual;Indie            24                 0   \n",
       "27073  Adventure;Casual;Indie             0                 2   \n",
       "27074  Adventure;Casual;Indie             0                 4   \n",
       "\n",
       "       negative_ratings  average_playtime             owners  price  \n",
       "0                  3339             17612  10000000-20000000   7.19  \n",
       "1                   633               277   5000000-10000000   3.99  \n",
       "2                   398               187   5000000-10000000   3.99  \n",
       "3                   267               258   5000000-10000000   3.99  \n",
       "4                   288               624   5000000-10000000   3.99  \n",
       "...                 ...               ...                ...    ...  \n",
       "27070                 0                 0            0-20000   2.09  \n",
       "27071                 1                 0            0-20000   1.69  \n",
       "27072                 1                 0            0-20000   3.99  \n",
       "27073                 0                 0            0-20000   5.19  \n",
       "27074                 0                 0            0-20000   5.19  \n",
       "\n",
       "[27075 rows x 11 columns]"
      ]
     },
     "execution_count": 6,
     "metadata": {},
     "output_type": "execute_result"
    }
   ],
   "source": [
    "game"
   ]
  },
  {
   "cell_type": "code",
   "execution_count": 25,
   "metadata": {},
   "outputs": [
    {
     "data": {
      "text/html": [
       "<div>\n",
       "<style scoped>\n",
       "    .dataframe tbody tr th:only-of-type {\n",
       "        vertical-align: middle;\n",
       "    }\n",
       "\n",
       "    .dataframe tbody tr th {\n",
       "        vertical-align: top;\n",
       "    }\n",
       "\n",
       "    .dataframe thead th {\n",
       "        text-align: right;\n",
       "    }\n",
       "</style>\n",
       "<table border=\"1\" class=\"dataframe\">\n",
       "  <thead>\n",
       "    <tr style=\"text-align: right;\">\n",
       "      <th></th>\n",
       "      <th>developer</th>\n",
       "    </tr>\n",
       "  </thead>\n",
       "  <tbody>\n",
       "    <tr>\n",
       "      <th>Choice of Games</th>\n",
       "      <td>94</td>\n",
       "    </tr>\n",
       "    <tr>\n",
       "      <th>KOEI TECMO GAMES CO., LTD.</th>\n",
       "      <td>72</td>\n",
       "    </tr>\n",
       "    <tr>\n",
       "      <th>Ripknot Systems</th>\n",
       "      <td>62</td>\n",
       "    </tr>\n",
       "    <tr>\n",
       "      <th>Laush Dmitriy Sergeevich</th>\n",
       "      <td>51</td>\n",
       "    </tr>\n",
       "    <tr>\n",
       "      <th>Nikita \"Ghost_RUS\"</th>\n",
       "      <td>50</td>\n",
       "    </tr>\n",
       "    <tr>\n",
       "      <th>...</th>\n",
       "      <td>...</td>\n",
       "    </tr>\n",
       "    <tr>\n",
       "      <th>Fugazo</th>\n",
       "      <td>1</td>\n",
       "    </tr>\n",
       "    <tr>\n",
       "      <th>D'Avekki Studios Ltd;Wales Interactive</th>\n",
       "      <td>1</td>\n",
       "    </tr>\n",
       "    <tr>\n",
       "      <th>DCELL GAMES STUDIO</th>\n",
       "      <td>1</td>\n",
       "    </tr>\n",
       "    <tr>\n",
       "      <th>mahojigoku</th>\n",
       "      <td>1</td>\n",
       "    </tr>\n",
       "    <tr>\n",
       "      <th>studio Don Quixote</th>\n",
       "      <td>1</td>\n",
       "    </tr>\n",
       "  </tbody>\n",
       "</table>\n",
       "<p>17113 rows × 1 columns</p>\n",
       "</div>"
      ],
      "text/plain": [
       "                                        developer\n",
       "Choice of Games                                94\n",
       "KOEI TECMO GAMES CO., LTD.                     72\n",
       "Ripknot Systems                                62\n",
       "Laush Dmitriy Sergeevich                       51\n",
       "Nikita \"Ghost_RUS\"                             50\n",
       "...                                           ...\n",
       "Fugazo                                          1\n",
       "D'Avekki Studios Ltd;Wales Interactive          1\n",
       "DCELL GAMES STUDIO                              1\n",
       "mahojigoku                                      1\n",
       "studio Don Quixote                              1\n",
       "\n",
       "[17113 rows x 1 columns]"
      ]
     },
     "execution_count": 25,
     "metadata": {},
     "output_type": "execute_result"
    }
   ],
   "source": [
    "#Here we group games by developers\n",
    "developer_game = game['developer'].value_counts().to_frame()\n",
    "developer_game = developer_game[developer_game['developer'] >= 1]\n",
    "developer_game"
   ]
  },
  {
   "cell_type": "code",
   "execution_count": 8,
   "metadata": {},
   "outputs": [
    {
     "data": {
      "text/plain": [
       "(17113, 1)"
      ]
     },
     "execution_count": 8,
     "metadata": {},
     "output_type": "execute_result"
    }
   ],
   "source": [
    "developer_game.shape"
   ]
  },
  {
   "cell_type": "code",
   "execution_count": 9,
   "metadata": {},
   "outputs": [
    {
     "data": {
      "text/html": [
       "<div>\n",
       "<style scoped>\n",
       "    .dataframe tbody tr th:only-of-type {\n",
       "        vertical-align: middle;\n",
       "    }\n",
       "\n",
       "    .dataframe tbody tr th {\n",
       "        vertical-align: top;\n",
       "    }\n",
       "\n",
       "    .dataframe thead th {\n",
       "        text-align: right;\n",
       "    }\n",
       "</style>\n",
       "<table border=\"1\" class=\"dataframe\">\n",
       "  <thead>\n",
       "    <tr style=\"text-align: right;\">\n",
       "      <th></th>\n",
       "      <th>genres</th>\n",
       "    </tr>\n",
       "  </thead>\n",
       "  <tbody>\n",
       "    <tr>\n",
       "      <th>Action;Indie</th>\n",
       "      <td>1852</td>\n",
       "    </tr>\n",
       "    <tr>\n",
       "      <th>Casual;Indie</th>\n",
       "      <td>1482</td>\n",
       "    </tr>\n",
       "    <tr>\n",
       "      <th>Action;Adventure;Indie</th>\n",
       "      <td>1229</td>\n",
       "    </tr>\n",
       "    <tr>\n",
       "      <th>Adventure;Indie</th>\n",
       "      <td>1170</td>\n",
       "    </tr>\n",
       "    <tr>\n",
       "      <th>Action;Casual;Indie</th>\n",
       "      <td>1004</td>\n",
       "    </tr>\n",
       "    <tr>\n",
       "      <th>...</th>\n",
       "      <td>...</td>\n",
       "    </tr>\n",
       "    <tr>\n",
       "      <th>Action;Casual;Indie;Racing;Sports;Strategy;Early Access</th>\n",
       "      <td>1</td>\n",
       "    </tr>\n",
       "    <tr>\n",
       "      <th>Nudity;Casual;Indie;Simulation</th>\n",
       "      <td>1</td>\n",
       "    </tr>\n",
       "    <tr>\n",
       "      <th>Violent;Gore;Indie;RPG</th>\n",
       "      <td>1</td>\n",
       "    </tr>\n",
       "    <tr>\n",
       "      <th>Free to Play;Massively Multiplayer;Simulation;Sports</th>\n",
       "      <td>1</td>\n",
       "    </tr>\n",
       "    <tr>\n",
       "      <th>Adventure;Casual;Free to Play;Indie;Massively Multiplayer;Simulation</th>\n",
       "      <td>1</td>\n",
       "    </tr>\n",
       "  </tbody>\n",
       "</table>\n",
       "<p>1552 rows × 1 columns</p>\n",
       "</div>"
      ],
      "text/plain": [
       "                                                    genres\n",
       "Action;Indie                                          1852\n",
       "Casual;Indie                                          1482\n",
       "Action;Adventure;Indie                                1229\n",
       "Adventure;Indie                                       1170\n",
       "Action;Casual;Indie                                   1004\n",
       "...                                                    ...\n",
       "Action;Casual;Indie;Racing;Sports;Strategy;Earl...       1\n",
       "Nudity;Casual;Indie;Simulation                           1\n",
       "Violent;Gore;Indie;RPG                                   1\n",
       "Free to Play;Massively Multiplayer;Simulation;S...       1\n",
       "Adventure;Casual;Free to Play;Indie;Massively M...       1\n",
       "\n",
       "[1552 rows x 1 columns]"
      ]
     },
     "execution_count": 9,
     "metadata": {},
     "output_type": "execute_result"
    }
   ],
   "source": [
    "#Here we group games by genres\n",
    "genre_game = game['genres'].value_counts().to_frame()\n",
    "genre_game = genre_game[genre_game['genres'] >= 1]\n",
    "genre_game.shape\n",
    "genre_game"
   ]
  },
  {
   "cell_type": "code",
   "execution_count": 26,
   "metadata": {
    "scrolled": true
   },
   "outputs": [
    {
     "data": {
      "text/html": [
       "<div>\n",
       "<style scoped>\n",
       "    .dataframe tbody tr th:only-of-type {\n",
       "        vertical-align: middle;\n",
       "    }\n",
       "\n",
       "    .dataframe tbody tr th {\n",
       "        vertical-align: top;\n",
       "    }\n",
       "\n",
       "    .dataframe thead th {\n",
       "        text-align: right;\n",
       "    }\n",
       "</style>\n",
       "<table border=\"1\" class=\"dataframe\">\n",
       "  <thead>\n",
       "    <tr style=\"text-align: right;\">\n",
       "      <th></th>\n",
       "      <th>release_date</th>\n",
       "    </tr>\n",
       "  </thead>\n",
       "  <tbody>\n",
       "    <tr>\n",
       "      <th>2018-07-13</th>\n",
       "      <td>64</td>\n",
       "    </tr>\n",
       "    <tr>\n",
       "      <th>2018-11-16</th>\n",
       "      <td>56</td>\n",
       "    </tr>\n",
       "    <tr>\n",
       "      <th>2016-04-05</th>\n",
       "      <td>56</td>\n",
       "    </tr>\n",
       "    <tr>\n",
       "      <th>2019-01-31</th>\n",
       "      <td>56</td>\n",
       "    </tr>\n",
       "    <tr>\n",
       "      <th>2018-05-31</th>\n",
       "      <td>55</td>\n",
       "    </tr>\n",
       "    <tr>\n",
       "      <th>...</th>\n",
       "      <td>...</td>\n",
       "    </tr>\n",
       "    <tr>\n",
       "      <th>2011-06-30</th>\n",
       "      <td>1</td>\n",
       "    </tr>\n",
       "    <tr>\n",
       "      <th>2012-07-02</th>\n",
       "      <td>1</td>\n",
       "    </tr>\n",
       "    <tr>\n",
       "      <th>2008-10-24</th>\n",
       "      <td>1</td>\n",
       "    </tr>\n",
       "    <tr>\n",
       "      <th>2010-07-21</th>\n",
       "      <td>1</td>\n",
       "    </tr>\n",
       "    <tr>\n",
       "      <th>2010-11-26</th>\n",
       "      <td>1</td>\n",
       "    </tr>\n",
       "  </tbody>\n",
       "</table>\n",
       "<p>2619 rows × 1 columns</p>\n",
       "</div>"
      ],
      "text/plain": [
       "            release_date\n",
       "2018-07-13            64\n",
       "2018-11-16            56\n",
       "2016-04-05            56\n",
       "2019-01-31            56\n",
       "2018-05-31            55\n",
       "...                  ...\n",
       "2011-06-30             1\n",
       "2012-07-02             1\n",
       "2008-10-24             1\n",
       "2010-07-21             1\n",
       "2010-11-26             1\n",
       "\n",
       "[2619 rows x 1 columns]"
      ]
     },
     "execution_count": 26,
     "metadata": {},
     "output_type": "execute_result"
    }
   ],
   "source": [
    "#Here we group games by release_dates\n",
    "years_game = game['release_date'].value_counts().to_frame()\n",
    "years_game = years_game[years_game['release_date'] > 0]\n",
    "years_game"
   ]
  },
  {
   "cell_type": "markdown",
   "metadata": {},
   "source": [
    "## 4. Data analysis and visualization"
   ]
  },
  {
   "cell_type": "markdown",
   "metadata": {},
   "source": [
    "### 1. Play time of different game genres."
   ]
  },
  {
   "cell_type": "markdown",
   "metadata": {},
   "source": [
    "Here we will analyze the most time played genres on the Steam store."
   ]
  },
  {
   "cell_type": "code",
   "execution_count": 41,
   "metadata": {},
   "outputs": [],
   "source": [
    "#here we sort by play time\n",
    "k=game.sort_values(['average_playtime'],ascending=False)\n",
    "k=k[0:10]"
   ]
  },
  {
   "cell_type": "code",
   "execution_count": 42,
   "metadata": {},
   "outputs": [
    {
     "data": {
      "image/png": "[encoded data removed]",
      "text/plain": [
       "<Figure size 1008x576 with 1 Axes>"
      ]
     },
     "metadata": {},
     "output_type": "display_data"
    }
   ],
   "source": [
    "plt.figure(figsize = (14,8))\n",
    "\n",
    "sns.set()\n",
    "ax = sns.barplot(x='average_playtime',\n",
    "y='genres',\n",
    "data=k,\n",
    "palette='deep')\n",
    "ax.set_title(\"Play time of different game genres\", size = 18)\n",
    "ax.set_ylabel('Genres', size = 14)\n",
    "ax.set_xlabel('Frequency', size = 14)\n",
    "ax.xaxis.grid(True)"
   ]
  },
  {
   "cell_type": "markdown",
   "metadata": {},
   "source": [
    "                                 Нere we see the TOP 10 frequently played genres"
   ]
  },
  {
   "cell_type": "markdown",
   "metadata": {},
   "source": [
    "### 2. Rating of positive and negative developers:"
   ]
  },
  {
   "cell_type": "markdown",
   "metadata": {},
   "source": [
    "Here we will analyze developer feedback. Which developer is the most widely used? Which developer didn't the players like very much?"
   ]
  },
  {
   "cell_type": "markdown",
   "metadata": {},
   "source": [
    "#### The most positive developers\n",
    "Here we will show the developers with the most positive ratings"
   ]
  },
  {
   "cell_type": "code",
   "execution_count": 43,
   "metadata": {},
   "outputs": [],
   "source": [
    "#here we sort by positive ratings\n",
    "l=game.sort_values(['positive_ratings'],ascending=False)\n",
    "l=l[0:12]"
   ]
  },
  {
   "cell_type": "code",
   "execution_count": 44,
   "metadata": {},
   "outputs": [
    {
     "data": {
      "image/png": "[encoded data removed]",
      "text/plain": [
       "<Figure size 1008x576 with 1 Axes>"
      ]
     },
     "metadata": {},
     "output_type": "display_data"
    }
   ],
   "source": [
    "plt.figure(figsize = (14,8))\n",
    "\n",
    "sns.set()\n",
    "ax = sns.barplot(x='positive_ratings',\n",
    "y='developer',\n",
    "data=l,\n",
    "palette='deep')\n",
    "ax.set_title(\"Quantity of player for per league\", size = 18)\n",
    "ax.set_ylabel('Genres', size = 14)\n",
    "ax.set_xlabel('Frequency', size = 14)\n",
    "ax.xaxis.grid(True)"
   ]
  },
  {
   "cell_type": "markdown",
   "metadata": {},
   "source": [
    "                               Here we see the TOP 10 developers with the most positive ratings"
   ]
  },
  {
   "cell_type": "markdown",
   "metadata": {},
   "source": [
    "#### The most negative developers\n",
    "Here we will show the developers with the most negative ratings"
   ]
  },
  {
   "cell_type": "code",
   "execution_count": 29,
   "metadata": {},
   "outputs": [],
   "source": [
    "#here we sort by negative ratings\n",
    "z=game.sort_values(['negative_ratings'],ascending=False)\n",
    "z=z[0:10]"
   ]
  },
  {
   "cell_type": "code",
   "execution_count": 24,
   "metadata": {},
   "outputs": [
    {
     "data": {
      "image/png": "[encoded data removed]",
      "text/plain": [
       "<Figure size 1008x576 with 1 Axes>"
      ]
     },
     "metadata": {},
     "output_type": "display_data"
    }
   ],
   "source": [
    "plt.figure(figsize = (14,8))\n",
    "\n",
    "sns.set()\n",
    "ax = sns.barplot(x='negative_ratings',\n",
    "y='developer',\n",
    "data=z,\n",
    "palette='deep')\n",
    "ax.set_title(\"Quantity of player for per league\", size = 18)\n",
    "ax.set_ylabel('Genres', size = 14)\n",
    "ax.set_xlabel('Frequency', size = 14)\n",
    "ax.xaxis.grid(True)"
   ]
  },
  {
   "cell_type": "markdown",
   "metadata": {},
   "source": [
    "                                     Here we see the TOP 10 developers with the most negative ratings"
   ]
  }
 ],
 "metadata": {
  "kernelspec": {
   "display_name": "Python 3",
   "language": "python",
   "name": "python3"
  },
  "language_info": {
   "codemirror_mode": {
    "name": "ipython",
    "version": 3
   },
   "file_extension": ".py",
   "mimetype": "text/x-python",
   "name": "python",
   "nbconvert_exporter": "python",
   "pygments_lexer": "ipython3",
   "version": "3.8.3"
  }
 },
 "nbformat": 4,
 "nbformat_minor": 4
}
